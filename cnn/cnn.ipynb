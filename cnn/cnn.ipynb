{
 "cells": [
  {
   "cell_type": "code",
   "execution_count": 1,
   "metadata": {},
   "outputs": [
    {
     "name": "stderr",
     "output_type": "stream",
     "text": [
      "C:\\Users\\dendluri\\AppData\\Roaming\\Python\\Python37\\site-packages\\requests\\__init__.py:91: RequestsDependencyWarning: urllib3 (1.25.2) or chardet (3.0.4) doesn't match a supported version!\n",
      "  RequestsDependencyWarning)\n",
      "Using TensorFlow backend.\n"
     ]
    }
   ],
   "source": [
    "import gc\n",
    "import numpy as np\n",
    "import pandas as pd\n",
    "import tensorflow as tf\n",
    "from tensorflow.keras import layers\n",
    "from keras.preprocessing.image import ImageDataGenerator\n",
    "from sklearn.model_selection import train_test_split"
   ]
  },
  {
   "cell_type": "code",
   "execution_count": 2,
   "metadata": {},
   "outputs": [],
   "source": [
    "X = pd.read_csv('../../data/problem-dataset/train.csv')"
   ]
  },
  {
   "cell_type": "code",
   "execution_count": 3,
   "metadata": {},
   "outputs": [],
   "source": [
    "Y = X[['label']]"
   ]
  },
  {
   "cell_type": "code",
   "execution_count": 4,
   "metadata": {},
   "outputs": [],
   "source": [
    "X = X.drop([\"label\"], axis=1)"
   ]
  },
  {
   "cell_type": "code",
   "execution_count": 5,
   "metadata": {},
   "outputs": [],
   "source": [
    "X_test = pd.read_csv('../../data/problem-dataset/test.csv')\n",
    "\n",
    "X_test = X_test.values.reshape(X_test.shape[0], 28, 28, 1)"
   ]
  },
  {
   "cell_type": "code",
   "execution_count": 6,
   "metadata": {},
   "outputs": [],
   "source": [
    "X_train = X.values.reshape(X.shape[0], 28, 28, 1)\n",
    "\n",
    "# Convert class vectors to binary class matrices\n",
    "Y_train = tf.keras.utils.to_categorical(Y.values, 10)"
   ]
  },
  {
   "cell_type": "code",
   "execution_count": 7,
   "metadata": {},
   "outputs": [],
   "source": [
    "X_train, X_val, Y_train, Y_val = train_test_split(X_train, Y_train, test_size = 0.1, random_state=42)"
   ]
  },
  {
   "cell_type": "code",
   "execution_count": 8,
   "metadata": {},
   "outputs": [],
   "source": [
    "X_train = X_train.astype('float32')\n",
    "X_test = X_test.astype('float32')\n",
    "X_val = X_val.astype('float32')\n",
    "\n",
    "X_train /= 255\n",
    "X_test /= 255\n",
    "X_val /= 255"
   ]
  },
  {
   "cell_type": "code",
   "execution_count": 9,
   "metadata": {},
   "outputs": [],
   "source": [
    "datagen = ImageDataGenerator(\n",
    "        rotation_range=10,\n",
    "        width_shift_range=0.2, \n",
    "        height_shift_range=0.2)\n",
    "\n",
    "datagen.fit(X_train)"
   ]
  },
  {
   "cell_type": "code",
   "execution_count": 10,
   "metadata": {},
   "outputs": [
    {
     "name": "stdout",
     "output_type": "stream",
     "text": [
      "WARNING:tensorflow:From C:\\Users\\dendluri\\AppData\\Roaming\\Python\\Python37\\site-packages\\tensorflow\\python\\ops\\resource_variable_ops.py:435: colocate_with (from tensorflow.python.framework.ops) is deprecated and will be removed in a future version.\n",
      "Instructions for updating:\n",
      "Colocations handled automatically by placer.\n",
      "WARNING:tensorflow:From C:\\Users\\dendluri\\AppData\\Roaming\\Python\\Python37\\site-packages\\tensorflow\\python\\keras\\layers\\core.py:143: calling dropout (from tensorflow.python.ops.nn_ops) with keep_prob is deprecated and will be removed in a future version.\n",
      "Instructions for updating:\n",
      "Please use `rate` instead of `keep_prob`. Rate should be set to `rate = 1 - keep_prob`.\n",
      "_________________________________________________________________\n",
      "Layer (type)                 Output Shape              Param #   \n",
      "=================================================================\n",
      "conv2d (Conv2D)              (None, 26, 26, 32)        320       \n",
      "_________________________________________________________________\n",
      "batch_normalization_v1 (Batc (None, 26, 26, 32)        128       \n",
      "_________________________________________________________________\n",
      "dropout (Dropout)            (None, 26, 26, 32)        0         \n",
      "_________________________________________________________________\n",
      "conv2d_1 (Conv2D)            (None, 24, 24, 64)        18496     \n",
      "_________________________________________________________________\n",
      "batch_normalization_v1_1 (Ba (None, 24, 24, 64)        256       \n",
      "_________________________________________________________________\n",
      "max_pooling2d (MaxPooling2D) (None, 12, 12, 64)        0         \n",
      "_________________________________________________________________\n",
      "dropout_1 (Dropout)          (None, 12, 12, 64)        0         \n",
      "_________________________________________________________________\n",
      "conv2d_2 (Conv2D)            (None, 10, 10, 128)       73856     \n",
      "_________________________________________________________________\n",
      "batch_normalization_v1_2 (Ba (None, 10, 10, 128)       512       \n",
      "_________________________________________________________________\n",
      "max_pooling2d_1 (MaxPooling2 (None, 5, 5, 128)         0         \n",
      "_________________________________________________________________\n",
      "dropout_2 (Dropout)          (None, 5, 5, 128)         0         \n",
      "_________________________________________________________________\n",
      "flatten (Flatten)            (None, 3200)              0         \n",
      "_________________________________________________________________\n",
      "dense (Dense)                (None, 256)               819456    \n",
      "_________________________________________________________________\n",
      "batch_normalization_v1_3 (Ba (None, 256)               1024      \n",
      "_________________________________________________________________\n",
      "dropout_3 (Dropout)          (None, 256)               0         \n",
      "_________________________________________________________________\n",
      "dense_1 (Dense)              (None, 10)                2570      \n",
      "=================================================================\n",
      "Total params: 916,618\n",
      "Trainable params: 915,658\n",
      "Non-trainable params: 960\n",
      "_________________________________________________________________\n"
     ]
    }
   ],
   "source": [
    "#Build model\n",
    "model = tf.keras.Sequential()\n",
    "model.add(layers.Conv2D(32, kernel_size=(3, 3),\n",
    "          activation='relu',\n",
    "          input_shape=(28, 28, 1)))\n",
    "model.add(layers.BatchNormalization())\n",
    "model.add(layers.Dropout(0.2))\n",
    "\n",
    "model.add(layers.Conv2D(64, (3, 3), activation='relu'))\n",
    "model.add(layers.BatchNormalization())\n",
    "model.add(layers.MaxPooling2D(pool_size=(2, 2)))\n",
    "model.add(layers.Dropout(0.2))\n",
    "\n",
    "model.add(layers.Conv2D(128, (3, 3), activation='relu'))\n",
    "model.add(layers.BatchNormalization())\n",
    "model.add(layers.MaxPooling2D(pool_size=(2, 2), padding='same'))\n",
    "model.add(layers.Dropout(0.2))\n",
    "\n",
    "model.add(layers.Flatten())\n",
    "model.add(layers.Dense(256, activation='relu'))\n",
    "model.add(layers.BatchNormalization())\n",
    "model.add(layers.Dropout(0.5))\n",
    "model.add(layers.Dense(10, activation='softmax'))\n",
    "model.summary()"
   ]
  },
  {
   "cell_type": "code",
   "execution_count": 11,
   "metadata": {},
   "outputs": [],
   "source": [
    "model.compile(loss=\"categorical_crossentropy\",\n",
    "              optimizer=\"adadelta\",\n",
    "              metrics=['accuracy'])"
   ]
  },
  {
   "cell_type": "code",
   "execution_count": 12,
   "metadata": {},
   "outputs": [
    {
     "name": "stdout",
     "output_type": "stream",
     "text": [
      "WARNING:tensorflow:From C:\\Users\\dendluri\\AppData\\Roaming\\Python\\Python37\\site-packages\\tensorflow\\python\\ops\\math_ops.py:3066: to_int32 (from tensorflow.python.ops.math_ops) is deprecated and will be removed in a future version.\n",
      "Instructions for updating:\n",
      "Use tf.cast instead.\n",
      "Epoch 1/10\n",
      "4200/4200 [==============================] - 12s 3ms/sample - loss: 5.1855 - acc: 0.1076\n",
      "296/296 [==============================] - 1045s 4s/step - loss: 0.7293 - acc: 0.7716 - val_loss: 5.1844 - val_acc: 0.1076\n",
      "Epoch 2/10\n",
      "4200/4200 [==============================] - 11s 3ms/sample - loss: 0.6873 - acc: 0.7774\n",
      "296/296 [==============================] - 1231s 4s/step - loss: 0.2314 - acc: 0.9284 - val_loss: 0.6872 - val_acc: 0.7774\n",
      "Epoch 3/10\n",
      "4200/4200 [==============================] - 10s 2ms/sample - loss: 0.0574 - acc: 0.9864\n",
      "296/296 [==============================] - 1199s 4s/step - loss: 0.1567 - acc: 0.9517 - val_loss: 0.0574 - val_acc: 0.9864\n",
      "Epoch 4/10\n",
      "4200/4200 [==============================] - 10s 2ms/sample - loss: 0.0446 - acc: 0.9852\n",
      "296/296 [==============================] - 1064s 4s/step - loss: 0.1290 - acc: 0.9612 - val_loss: 0.0446 - val_acc: 0.9852\n",
      "Epoch 5/10\n",
      "4200/4200 [==============================] - 11s 3ms/sample - loss: 0.0348 - acc: 0.9890\n",
      "296/296 [==============================] - 1110s 4s/step - loss: 0.1054 - acc: 0.9680 - val_loss: 0.0349 - val_acc: 0.9890\n",
      "Epoch 6/10\n",
      "4200/4200 [==============================] - 10s 2ms/sample - loss: 0.1217 - acc: 0.9631\n",
      "296/296 [==============================] - 1069s 4s/step - loss: 0.0964 - acc: 0.9711 - val_loss: 0.1217 - val_acc: 0.9631\n",
      "Epoch 7/10\n",
      "4200/4200 [==============================] - 10s 2ms/sample - loss: 0.0301 - acc: 0.9905\n",
      "296/296 [==============================] - 1036s 4s/step - loss: 0.0883 - acc: 0.9734 - val_loss: 0.0301 - val_acc: 0.9905\n",
      "Epoch 8/10\n",
      "4200/4200 [==============================] - 10s 2ms/sample - loss: 0.0285 - acc: 0.9898\n",
      "296/296 [==============================] - 1030s 3s/step - loss: 0.0831 - acc: 0.9743 - val_loss: 0.0286 - val_acc: 0.9898\n",
      "Epoch 9/10\n",
      "4200/4200 [==============================] - 12s 3ms/sample - loss: 0.0307 - acc: 0.9895\n",
      "296/296 [==============================] - 1040s 4s/step - loss: 0.0785 - acc: 0.9764 - val_loss: 0.0306 - val_acc: 0.9895\n",
      "Epoch 10/10\n",
      "4200/4200 [==============================] - 10s 2ms/sample - loss: 0.0247 - acc: 0.9924\n",
      "296/296 [==============================] - 1094s 4s/step - loss: 0.0714 - acc: 0.9780 - val_loss: 0.0246 - val_acc: 0.9924\n"
     ]
    },
    {
     "data": {
      "text/plain": [
       "<tensorflow.python.keras.callbacks.History at 0x13107490a90>"
      ]
     },
     "execution_count": 12,
     "metadata": {},
     "output_type": "execute_result"
    }
   ],
   "source": [
    "model.fit(datagen.flow(X_train, Y_train, batch_size=128),\n",
    "                    epochs=10,\n",
    "                    validation_data=(X_val, Y_val),\n",
    "                    verbose=1,\n",
    "                    steps_per_epoch=X_train.shape[0] // 128)"
   ]
  },
  {
   "cell_type": "code",
   "execution_count": 13,
   "metadata": {},
   "outputs": [
    {
     "name": "stdout",
     "output_type": "stream",
     "text": [
      "28000/28000 [==============================] - 69s 2ms/sample\n"
     ]
    }
   ],
   "source": [
    "Y_test = model.predict(X_test, batch_size=128, verbose=1)"
   ]
  },
  {
   "cell_type": "code",
   "execution_count": 14,
   "metadata": {},
   "outputs": [],
   "source": [
    "Y_test = np.argmax(Y_test, axis=1)"
   ]
  },
  {
   "cell_type": "code",
   "execution_count": 15,
   "metadata": {},
   "outputs": [],
   "source": [
    "frame = pd.DataFrame({'Label': Y_test})\n",
    "frame.insert(0, 'ImageId', range(1, 1 + len(frame)))\n",
    "frame.to_csv('output.csv', index=False)"
   ]
  }
 ],
 "metadata": {
  "kernelspec": {
   "display_name": "Python 3",
   "language": "python",
   "name": "python3"
  },
  "language_info": {
   "codemirror_mode": {
    "name": "ipython",
    "version": 3
   },
   "file_extension": ".py",
   "mimetype": "text/x-python",
   "name": "python",
   "nbconvert_exporter": "python",
   "pygments_lexer": "ipython3",
   "version": "3.7.3"
  }
 },
 "nbformat": 4,
 "nbformat_minor": 2
}

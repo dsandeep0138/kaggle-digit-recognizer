{
 "cells": [
  {
   "cell_type": "code",
   "execution_count": 1,
   "metadata": {},
   "outputs": [
    {
     "name": "stderr",
     "output_type": "stream",
     "text": [
      "Using TensorFlow backend.\n"
     ]
    }
   ],
   "source": [
    "import gc\n",
    "import numpy as np\n",
    "import pandas as pd\n",
    "import tensorflow as tf\n",
    "from tensorflow.keras import layers, optimizers\n",
    "from tensorflow.keras.callbacks import ReduceLROnPlateau\n",
    "\n",
    "from keras.preprocessing.image import ImageDataGenerator\n",
    "from sklearn.model_selection import train_test_split"
   ]
  },
  {
   "cell_type": "code",
   "execution_count": 2,
   "metadata": {},
   "outputs": [],
   "source": [
    "X = pd.read_csv('train.csv')"
   ]
  },
  {
   "cell_type": "code",
   "execution_count": 3,
   "metadata": {},
   "outputs": [],
   "source": [
    "Y = X[['label']]"
   ]
  },
  {
   "cell_type": "code",
   "execution_count": 4,
   "metadata": {},
   "outputs": [],
   "source": [
    "X = X.drop([\"label\"], axis=1)"
   ]
  },
  {
   "cell_type": "code",
   "execution_count": 5,
   "metadata": {},
   "outputs": [],
   "source": [
    "X_test = pd.read_csv('test.csv')\n",
    "\n",
    "X_test = X_test.values.reshape(X_test.shape[0], 28, 28, 1)"
   ]
  },
  {
   "cell_type": "code",
   "execution_count": 6,
   "metadata": {},
   "outputs": [],
   "source": [
    "X_train = X.values.reshape(X.shape[0], 28, 28, 1)\n",
    "\n",
    "# Convert class vectors to binary class matrices\n",
    "Y_train = tf.keras.utils.to_categorical(Y.values, 10)"
   ]
  },
  {
   "cell_type": "code",
   "execution_count": 7,
   "metadata": {},
   "outputs": [],
   "source": [
    "X_train, X_val, Y_train, Y_val = train_test_split(X_train, Y_train, test_size = 0.1, random_state=42)"
   ]
  },
  {
   "cell_type": "code",
   "execution_count": 8,
   "metadata": {},
   "outputs": [],
   "source": [
    "X_train = X_train.astype('float32')\n",
    "X_test = X_test.astype('float32')\n",
    "X_val = X_val.astype('float32')\n",
    "\n",
    "X_train /= 255\n",
    "X_test /= 255\n",
    "X_val /= 255"
   ]
  },
  {
   "cell_type": "code",
   "execution_count": 9,
   "metadata": {},
   "outputs": [],
   "source": [
    "datagen = ImageDataGenerator(\n",
    "        rotation_range=10,\n",
    "        zoom_range = 0.10,\n",
    "        width_shift_range=0.1, \n",
    "        height_shift_range=0.1)\n",
    "\n",
    "datagen.fit(X_train)"
   ]
  },
  {
   "cell_type": "code",
   "execution_count": 10,
   "metadata": {},
   "outputs": [
    {
     "name": "stdout",
     "output_type": "stream",
     "text": [
      "WARNING:tensorflow:From C:\\Users\\dendluri\\AppData\\Roaming\\Python\\Python37\\site-packages\\tensorflow\\python\\ops\\resource_variable_ops.py:435: colocate_with (from tensorflow.python.framework.ops) is deprecated and will be removed in a future version.\n",
      "Instructions for updating:\n",
      "Colocations handled automatically by placer.\n",
      "WARNING:tensorflow:From C:\\Users\\dendluri\\AppData\\Roaming\\Python\\Python37\\site-packages\\tensorflow\\python\\keras\\layers\\core.py:143: calling dropout (from tensorflow.python.ops.nn_ops) with keep_prob is deprecated and will be removed in a future version.\n",
      "Instructions for updating:\n",
      "Please use `rate` instead of `keep_prob`. Rate should be set to `rate = 1 - keep_prob`.\n",
      "_________________________________________________________________\n",
      "Layer (type)                 Output Shape              Param #   \n",
      "=================================================================\n",
      "conv2d (Conv2D)              (None, 28, 28, 32)        832       \n",
      "_________________________________________________________________\n",
      "batch_normalization_v1 (Batc (None, 28, 28, 32)        128       \n",
      "_________________________________________________________________\n",
      "conv2d_1 (Conv2D)            (None, 24, 24, 32)        25632     \n",
      "_________________________________________________________________\n",
      "batch_normalization_v1_1 (Ba (None, 24, 24, 32)        128       \n",
      "_________________________________________________________________\n",
      "dropout (Dropout)            (None, 24, 24, 32)        0         \n",
      "_________________________________________________________________\n",
      "conv2d_2 (Conv2D)            (None, 24, 24, 64)        18496     \n",
      "_________________________________________________________________\n",
      "batch_normalization_v1_2 (Ba (None, 24, 24, 64)        256       \n",
      "_________________________________________________________________\n",
      "conv2d_3 (Conv2D)            (None, 22, 22, 64)        36928     \n",
      "_________________________________________________________________\n",
      "batch_normalization_v1_3 (Ba (None, 22, 22, 64)        256       \n",
      "_________________________________________________________________\n",
      "max_pooling2d (MaxPooling2D) (None, 11, 11, 64)        0         \n",
      "_________________________________________________________________\n",
      "dropout_1 (Dropout)          (None, 11, 11, 64)        0         \n",
      "_________________________________________________________________\n",
      "conv2d_4 (Conv2D)            (None, 9, 9, 128)         73856     \n",
      "_________________________________________________________________\n",
      "batch_normalization_v1_4 (Ba (None, 9, 9, 128)         512       \n",
      "_________________________________________________________________\n",
      "max_pooling2d_1 (MaxPooling2 (None, 5, 5, 128)         0         \n",
      "_________________________________________________________________\n",
      "dropout_2 (Dropout)          (None, 5, 5, 128)         0         \n",
      "_________________________________________________________________\n",
      "flatten (Flatten)            (None, 3200)              0         \n",
      "_________________________________________________________________\n",
      "dense (Dense)                (None, 1024)              3277824   \n",
      "_________________________________________________________________\n",
      "batch_normalization_v1_5 (Ba (None, 1024)              4096      \n",
      "_________________________________________________________________\n",
      "dropout_3 (Dropout)          (None, 1024)              0         \n",
      "_________________________________________________________________\n",
      "dense_1 (Dense)              (None, 512)               524800    \n",
      "_________________________________________________________________\n",
      "batch_normalization_v1_6 (Ba (None, 512)               2048      \n",
      "_________________________________________________________________\n",
      "dropout_4 (Dropout)          (None, 512)               0         \n",
      "_________________________________________________________________\n",
      "dense_2 (Dense)              (None, 256)               131328    \n",
      "_________________________________________________________________\n",
      "batch_normalization_v1_7 (Ba (None, 256)               1024      \n",
      "_________________________________________________________________\n",
      "dropout_5 (Dropout)          (None, 256)               0         \n",
      "_________________________________________________________________\n",
      "dense_3 (Dense)              (None, 10)                2570      \n",
      "=================================================================\n",
      "Total params: 4,100,714\n",
      "Trainable params: 4,096,490\n",
      "Non-trainable params: 4,224\n",
      "_________________________________________________________________\n"
     ]
    }
   ],
   "source": [
    "#Build model\n",
    "model = tf.keras.Sequential()\n",
    "model.add(layers.Conv2D(32, kernel_size=(5, 5),\n",
    "                 activation='relu',\n",
    "                 padding='same',\n",
    "                 input_shape=(28, 28, 1)))\n",
    "model.add(layers.BatchNormalization())\n",
    "model.add(layers.Conv2D(32, (5, 5), activation='relu'))\n",
    "model.add(layers.BatchNormalization())\n",
    "model.add(layers.Dropout(0.2))\n",
    "\n",
    "model.add(layers.Conv2D(64, (3, 3), activation='relu', padding='same'))\n",
    "model.add(layers.BatchNormalization())\n",
    "model.add(layers.Conv2D(64, (3, 3), activation='relu'))\n",
    "model.add(layers.BatchNormalization())\n",
    "model.add(layers.MaxPooling2D(pool_size=(2, 2)))\n",
    "model.add(layers.Dropout(0.2))\n",
    "\n",
    "model.add(layers.Conv2D(128, (3, 3), activation='relu'))\n",
    "model.add(layers.BatchNormalization())\n",
    "model.add(layers.MaxPooling2D(pool_size=(2, 2), padding='same'))\n",
    "model.add(layers.Dropout(0.2))\n",
    "  \n",
    "model.add(layers.Flatten())  \n",
    "model.add(layers.Dense(1024, activation='relu'))\n",
    "model.add(layers.BatchNormalization())\n",
    "model.add(layers.Dropout(0.3))\n",
    "  \n",
    "model.add(layers.Dense(512, activation='relu'))\n",
    "model.add(layers.BatchNormalization())\n",
    "model.add(layers.Dropout(0.3))\n",
    "  \n",
    "model.add(layers.Dense(256, activation='relu'))\n",
    "model.add(layers.BatchNormalization())\n",
    "model.add(layers.Dropout(0.3))\n",
    "\n",
    "model.add(layers.Dense(10, activation='softmax'))\n",
    "model.summary()"
   ]
  },
  {
   "cell_type": "code",
   "execution_count": 11,
   "metadata": {},
   "outputs": [],
   "source": [
    "model.compile(loss=\"categorical_crossentropy\",\n",
    "              optimizer=optimizers.Adadelta(lr=1.0, rho=0.95, epsilon=1e-08, decay=0.0),\n",
    "              metrics=['accuracy'])\n",
    "\n",
    "reduce_lr = ReduceLROnPlateau(monitor='val_acc',\n",
    "                                factor=0.5,\n",
    "                                patience=3,\n",
    "                                min_lr=0.00001,\n",
    "                                verbose=1)"
   ]
  },
  {
   "cell_type": "code",
   "execution_count": 12,
   "metadata": {},
   "outputs": [
    {
     "name": "stdout",
     "output_type": "stream",
     "text": [
      "WARNING:tensorflow:From C:\\Users\\dendluri\\AppData\\Roaming\\Python\\Python37\\site-packages\\tensorflow\\python\\ops\\math_ops.py:3066: to_int32 (from tensorflow.python.ops.math_ops) is deprecated and will be removed in a future version.\n",
      "Instructions for updating:\n",
      "Use tf.cast instead.\n",
      "Epoch 1/30\n",
      "4200/4200 [==============================] - 21s 5ms/sample - loss: 9.9123 - acc: 0.1121\n",
      "296/296 [==============================] - 5637s 19s/step - loss: 0.5593 - acc: 0.8233 - val_loss: 9.9097 - val_acc: 0.1121\n",
      "Epoch 2/30\n",
      "4200/4200 [==============================] - 14s 3ms/sample - loss: 0.1877 - acc: 0.9448\n",
      "296/296 [==============================] - 3728s 13s/step - loss: 0.1534 - acc: 0.9535 - val_loss: 0.1877 - val_acc: 0.9448\n",
      "Epoch 3/30\n",
      "4200/4200 [==============================] - 14s 3ms/sample - loss: 0.0409 - acc: 0.9886\n",
      "296/296 [==============================] - 986s 3s/step - loss: 0.1015 - acc: 0.9688 - val_loss: 0.0407 - val_acc: 0.9886\n",
      "Epoch 4/30\n",
      "4200/4200 [==============================] - 14s 3ms/sample - loss: 0.0279 - acc: 0.9926\n",
      "296/296 [==============================] - 1003s 3s/step - loss: 0.0811 - acc: 0.9756 - val_loss: 0.0278 - val_acc: 0.9926\n",
      "Epoch 5/30\n",
      "4200/4200 [==============================] - 15s 4ms/sample - loss: 0.0520 - acc: 0.9850\n",
      "296/296 [==============================] - 999s 3s/step - loss: 0.0729 - acc: 0.9779 - val_loss: 0.0520 - val_acc: 0.9850\n",
      "Epoch 6/30\n",
      "4200/4200 [==============================] - 16s 4ms/sample - loss: 0.0476 - acc: 0.9857\n",
      "296/296 [==============================] - 994s 3s/step - loss: 0.0608 - acc: 0.9816 - val_loss: 0.0477 - val_acc: 0.9857\n",
      "Epoch 7/30\n",
      "4200/4200 [==============================] - 15s 4ms/sample - loss: 0.0206 - acc: 0.9936\n",
      "296/296 [==============================] - 1007s 3s/step - loss: 0.0560 - acc: 0.9830 - val_loss: 0.0207 - val_acc: 0.9936\n",
      "Epoch 8/30\n",
      "4200/4200 [==============================] - 15s 4ms/sample - loss: 0.0221 - acc: 0.9926\n",
      "296/296 [==============================] - 996s 3s/step - loss: 0.0502 - acc: 0.9848 - val_loss: 0.0220 - val_acc: 0.9926\n",
      "Epoch 9/30\n",
      "4200/4200 [==============================] - 15s 4ms/sample - loss: 0.0299 - acc: 0.9910\n",
      "296/296 [==============================] - 993s 3s/step - loss: 0.0467 - acc: 0.9857 - val_loss: 0.0301 - val_acc: 0.9910\n",
      "Epoch 10/30\n",
      "4200/4200 [==============================] - 15s 4ms/sample - loss: 0.0282 - acc: 0.9929\n",
      "\n",
      "Epoch 00010: ReduceLROnPlateau reducing learning rate to 0.5.\n",
      "296/296 [==============================] - 1103s 4s/step - loss: 0.0441 - acc: 0.9862 - val_loss: 0.0282 - val_acc: 0.9929\n",
      "Epoch 11/30\n",
      "4200/4200 [==============================] - 15s 4ms/sample - loss: 0.0215 - acc: 0.9933\n",
      "296/296 [==============================] - 1030s 3s/step - loss: 0.0354 - acc: 0.9893 - val_loss: 0.0215 - val_acc: 0.9933\n",
      "Epoch 12/30\n",
      "4200/4200 [==============================] - 16s 4ms/sample - loss: 0.0200 - acc: 0.9940\n",
      "296/296 [==============================] - 1013s 3s/step - loss: 0.0307 - acc: 0.9905 - val_loss: 0.0201 - val_acc: 0.9940\n",
      "Epoch 13/30\n",
      "4200/4200 [==============================] - 25s 6ms/sample - loss: 0.0162 - acc: 0.9948\n",
      "296/296 [==============================] - 1185s 4s/step - loss: 0.0303 - acc: 0.9909 - val_loss: 0.0165 - val_acc: 0.9948\n",
      "Epoch 14/30\n",
      "4200/4200 [==============================] - 25s 6ms/sample - loss: 0.0169 - acc: 0.9938\n",
      "296/296 [==============================] - 3472s 12s/step - loss: 0.0292 - acc: 0.9917 - val_loss: 0.0171 - val_acc: 0.9938\n",
      "Epoch 15/30\n",
      "4200/4200 [==============================] - 18s 4ms/sample - loss: 0.0193 - acc: 0.9940\n",
      "296/296 [==============================] - 1246s 4s/step - loss: 0.0290 - acc: 0.9911 - val_loss: 0.0194 - val_acc: 0.9940\n",
      "Epoch 16/30\n",
      "4200/4200 [==============================] - 16s 4ms/sample - loss: 0.0176 - acc: 0.9952\n",
      "296/296 [==============================] - 1137s 4s/step - loss: 0.0292 - acc: 0.9910 - val_loss: 0.0176 - val_acc: 0.9952\n",
      "Epoch 17/30\n",
      "4200/4200 [==============================] - 15s 4ms/sample - loss: 0.0190 - acc: 0.9943\n",
      "296/296 [==============================] - 1058s 4s/step - loss: 0.0267 - acc: 0.9916 - val_loss: 0.0190 - val_acc: 0.9943\n",
      "Epoch 18/30\n",
      "4200/4200 [==============================] - 18s 4ms/sample - loss: 0.0179 - acc: 0.9950\n",
      "296/296 [==============================] - 1067s 4s/step - loss: 0.0270 - acc: 0.9911 - val_loss: 0.0180 - val_acc: 0.9950\n",
      "Epoch 19/30\n",
      "4200/4200 [==============================] - 15s 4ms/sample - loss: 0.0158 - acc: 0.9943\n",
      "\n",
      "Epoch 00019: ReduceLROnPlateau reducing learning rate to 0.25.\n",
      "296/296 [==============================] - 1119s 4s/step - loss: 0.0254 - acc: 0.9923 - val_loss: 0.0159 - val_acc: 0.9943\n",
      "Epoch 20/30\n",
      "4200/4200 [==============================] - 24s 6ms/sample - loss: 0.0151 - acc: 0.9957\n",
      "296/296 [==============================] - 1294s 4s/step - loss: 0.0217 - acc: 0.9935 - val_loss: 0.0152 - val_acc: 0.9957\n",
      "Epoch 21/30\n",
      "4200/4200 [==============================] - 14s 3ms/sample - loss: 0.0138 - acc: 0.9950\n",
      "296/296 [==============================] - 1336s 5s/step - loss: 0.0224 - acc: 0.9933 - val_loss: 0.0139 - val_acc: 0.9950\n",
      "Epoch 22/30\n",
      "4200/4200 [==============================] - 17s 4ms/sample - loss: 0.0155 - acc: 0.9948\n",
      "296/296 [==============================] - 1180s 4s/step - loss: 0.0206 - acc: 0.9935 - val_loss: 0.0155 - val_acc: 0.9948\n",
      "Epoch 23/30\n",
      "4200/4200 [==============================] - 15s 4ms/sample - loss: 0.0164 - acc: 0.9950\n",
      "\n",
      "Epoch 00023: ReduceLROnPlateau reducing learning rate to 0.125.\n",
      "296/296 [==============================] - 1090s 4s/step - loss: 0.0210 - acc: 0.9938 - val_loss: 0.0164 - val_acc: 0.9950\n",
      "Epoch 24/30\n",
      "4200/4200 [==============================] - 16s 4ms/sample - loss: 0.0161 - acc: 0.9945\n",
      "296/296 [==============================] - 1061s 4s/step - loss: 0.0197 - acc: 0.9940 - val_loss: 0.0162 - val_acc: 0.9945\n",
      "Epoch 25/30\n",
      "4200/4200 [==============================] - 17s 4ms/sample - loss: 0.0145 - acc: 0.9950\n",
      "296/296 [==============================] - 1057s 4s/step - loss: 0.0181 - acc: 0.9945 - val_loss: 0.0146 - val_acc: 0.9950\n",
      "Epoch 26/30\n",
      "4200/4200 [==============================] - 18s 4ms/sample - loss: 0.0149 - acc: 0.9952\n",
      "\n",
      "Epoch 00026: ReduceLROnPlateau reducing learning rate to 0.0625.\n",
      "296/296 [==============================] - 1237s 4s/step - loss: 0.0183 - acc: 0.9945 - val_loss: 0.0150 - val_acc: 0.9952\n",
      "Epoch 27/30\n",
      "4200/4200 [==============================] - 20s 5ms/sample - loss: 0.0137 - acc: 0.9952\n",
      "296/296 [==============================] - 1286s 4s/step - loss: 0.0173 - acc: 0.9946 - val_loss: 0.0137 - val_acc: 0.9952\n",
      "Epoch 28/30\n",
      "4200/4200 [==============================] - 16s 4ms/sample - loss: 0.0136 - acc: 0.9950\n",
      "296/296 [==============================] - 1141s 4s/step - loss: 0.0190 - acc: 0.9947 - val_loss: 0.0138 - val_acc: 0.9950\n",
      "Epoch 29/30\n",
      "4200/4200 [==============================] - 15s 4ms/sample - loss: 0.0137 - acc: 0.9948\n",
      "\n",
      "Epoch 00029: ReduceLROnPlateau reducing learning rate to 0.03125.\n",
      "296/296 [==============================] - 1060s 4s/step - loss: 0.0168 - acc: 0.9950 - val_loss: 0.0139 - val_acc: 0.9948\n",
      "Epoch 30/30\n",
      "4200/4200 [==============================] - 17s 4ms/sample - loss: 0.0136 - acc: 0.9948\n",
      "296/296 [==============================] - 1066s 4s/step - loss: 0.0180 - acc: 0.9945 - val_loss: 0.0138 - val_acc: 0.9948\n"
     ]
    },
    {
     "data": {
      "text/plain": [
       "<tensorflow.python.keras.callbacks.History at 0x1ff99ceac88>"
      ]
     },
     "execution_count": 12,
     "metadata": {},
     "output_type": "execute_result"
    }
   ],
   "source": [
    "model.fit(datagen.flow(X_train, Y_train, batch_size=128),\n",
    "                    epochs=30,\n",
    "                    validation_data=(X_val, Y_val),\n",
    "                    verbose=1,\n",
    "                    steps_per_epoch=X_train.shape[0] // 128,\n",
    "                    callbacks=[reduce_lr])"
   ]
  },
  {
   "cell_type": "code",
   "execution_count": 13,
   "metadata": {},
   "outputs": [
    {
     "name": "stdout",
     "output_type": "stream",
     "text": [
      "28000/28000 [==============================] - 107s 4ms/sample\n"
     ]
    }
   ],
   "source": [
    "Y_test = model.predict(X_test, batch_size=128, verbose=1)"
   ]
  },
  {
   "cell_type": "code",
   "execution_count": 14,
   "metadata": {},
   "outputs": [],
   "source": [
    "Y_test = np.argmax(Y_test, axis=1)"
   ]
  },
  {
   "cell_type": "code",
   "execution_count": 15,
   "metadata": {},
   "outputs": [],
   "source": [
    "frame = pd.DataFrame({'Label': Y_test})\n",
    "frame.insert(0, 'ImageId', range(1, 1 + len(frame)))\n",
    "frame.to_csv('output.csv', index=False)"
   ]
  }
 ],
 "metadata": {
  "kernelspec": {
   "display_name": "Python 3",
   "language": "python",
   "name": "python3"
  },
  "language_info": {
   "codemirror_mode": {
    "name": "ipython",
    "version": 3
   },
   "file_extension": ".py",
   "mimetype": "text/x-python",
   "name": "python",
   "nbconvert_exporter": "python",
   "pygments_lexer": "ipython3",
   "version": "3.7.3"
  }
 },
 "nbformat": 4,
 "nbformat_minor": 2
}
